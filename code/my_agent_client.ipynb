{
 "cells": [
  {
   "cell_type": "markdown",
   "id": "3b80a44c",
   "metadata": {},
   "source": [
    "# My Custom AI Agent Client\n",
    "\n",
    "This is a template for your custom AI agent. Customize it for your specific use case!"
   ]
  },
  {
   "cell_type": "code",
   "execution_count": 24,
   "id": "952bd3e2",
   "metadata": {},
   "outputs": [
    {
     "name": "stdout",
     "output_type": "stream",
     "text": [
      "\n",
      "\u001b[1m[\u001b[0m\u001b[34;49mnotice\u001b[0m\u001b[1;39;49m]\u001b[0m\u001b[39;49m A new release of pip is available: \u001b[0m\u001b[31;49m25.0.1\u001b[0m\u001b[39;49m -> \u001b[0m\u001b[32;49m25.1.1\u001b[0m\n",
      "\u001b[1m[\u001b[0m\u001b[34;49mnotice\u001b[0m\u001b[1;39;49m]\u001b[0m\u001b[39;49m To update, run: \u001b[0m\u001b[32;49mpip3 install --upgrade pip\u001b[0m\n",
      "Note: you may need to restart the kernel to use updated packages.\n"
     ]
    }
   ],
   "source": [
    "%pip install -r ../requirements.txt > /dev/null\n",
    "from dotenv import load_dotenv\n",
    "_ = load_dotenv(\"../variables.env\")\n",
    "_ = load_dotenv(\"../secrets.env\")"
   ]
  },
  {
   "cell_type": "code",
   "execution_count": 25,
   "id": "bd64e3fe",
   "metadata": {},
   "outputs": [],
   "source": [
    "import logging\n",
    "logging.basicConfig(level=logging.INFO)\n",
    "\n",
    "from IPython.display import Markdown\n",
    "\n",
    "from my_agent import AgentState, graph"
   ]
  },
  {
   "cell_type": "markdown",
   "id": "f92e9730",
   "metadata": {},
   "source": [
    "## Customize Your Agent\n",
    "\n",
    "Edit the agent files to customize it for your specific use case:\n",
    "\n",
    "1. **agent.py**: Modify the AgentState class and workflow\n",
    "2. **prompts.py**: Change the system prompt for your agent type\n",
    "3. **tools.py**: Add custom tools your agent needs\n",
    "4. **This notebook**: Update the input and output handling"
   ]
  },
  {
   "cell_type": "code",
   "execution_count": 26,
   "id": "3c310382",
   "metadata": {},
   "outputs": [],
   "source": [
    "# Your agent input - customize this!\n",
    "user_input = \"Tell me about the latest developments in AI agents in 2025\""
   ]
  },
  {
   "cell_type": "markdown",
   "id": "4bb9bdfb",
   "metadata": {},
   "source": [
    "## Run Your Agent\n",
    "\n",
    "This will execute your custom agent workflow."
   ]
  },
  {
   "cell_type": "code",
   "execution_count": 27,
   "id": "bf28ddce",
   "metadata": {},
   "outputs": [
    {
     "name": "stderr",
     "output_type": "stream",
     "text": [
      "INFO:my_agent.agent:Calling model.\n",
      "INFO:my_agent.agent:Executing tool calls.\n",
      "INFO:my_agent.agent:Executing tool call: search_tavily\n",
      "INFO:docgen_agent.tools:Searching the web using the Tavily API\n",
      "INFO:docgen_agent.tools:Searching for query: latest AI agents 2025\n",
      "INFO:httpx:HTTP Request: POST https://api.tavily.com/search \"HTTP/1.1 200 OK\"\n",
      "INFO:my_agent.agent:Calling model.\n"
     ]
    }
   ],
   "source": [
    "state = AgentState(\n",
    "    user_input=user_input\n",
    ")\n",
    "\n",
    "result = await graph.ainvoke(state)"
   ]
  },
  {
   "cell_type": "markdown",
   "id": "4e495d37",
   "metadata": {},
   "source": [
    "## View Results\n",
    "\n",
    "Display the agent response."
   ]
  },
  {
   "cell_type": "code",
   "execution_count": 28,
   "id": "29ca7a95",
   "metadata": {},
   "outputs": [
    {
     "name": "stdout",
     "output_type": "stream",
     "text": [
      "Agent completed! Here are the results:\n",
      "Result type: <class 'dict'>\n",
      "Result keys: dict_keys(['user_input', 'messages'])\n",
      "==================================================\n",
      "Message 1:\n",
      "Message type: AIMessage\n",
      "Role: assistant\n",
      "Tool Calls: [{'name': 'search_tavily', 'args': {'queries': ['latest AI agents 2025'], 'topic': 'news'}, 'id': 'chatcmpl-tool-9967e24d9f144e1ca93dbbb3c808857e', 'type': 'tool_call'}]\n",
      "Tool Name: None\n",
      "==================================================\n",
      "==================================================\n",
      "Message 2:\n",
      "Message type: ToolMessage\n",
      "Type: tool\n",
      "Content: Sources:\n",
      "\n",
      "Source Coder Unveils Enterprise-Grade Platform for Self-Hosted AI Development Environments - FinancialContent:\n",
      "===\n",
      "URL: https://markets.financialcontent.com/stocks/article/accwirecq-2025-7-7-coder-unveils-enterprise-grade-platform-for-self-hosted-ai-development-environments\n",
      "===\n",
      "Most relevant content from source: _**Coder's latest release enables AI agents to become a practical and secure reality for enterprise software development teams**_ **AUSTIN, TX / ACCESS Newswire / July 7, 2025 /**Today, Coder, the AI software development company, introduces a major platform upgrade designed specifically for enterprise teams working with AI coding agents. With today's announcement, Coder is introducing AI cloud development environments (CDEs) that combine full-featured IDEs, dynamic policy governance, and seamless agent orchestration - all within enterprise-controlled infrastructure. This release also introduces a redesigned Coder Registry, a marketplace of community and official modules and templates for sharing and managing secure, enterprise-ready dev environments, with built-in modules that accelerate time-to-value for popular AI agents like Claude Code. Coder helps teams build fast, stay secure, and scale with control by combining AI coding agents and human developers in one trusted workspace.\n",
      "===\n",
      "Source Coder Unveils Enterprise-Grade Platform for Self-Hosted AI Development Environments - ACCESS Newswire:\n",
      "===\n",
      "URL: https://www.accessnewswire.com/newsroom/en/computers-technology-and-internet/coder-unveils-enterprise-grade-platform-for-self-hosted-ai-develo-1045494\n",
      "===\n",
      "Most relevant content from source: Image 8: Coder Unveils Enterprise-Grade Platform for Self-Hosted AI Development Environments _**Coder's latest release enables AI agents to become a practical and secure reality for enterprise software development teams**_ **AUSTIN, TX / ACCESS Newswire / July 7, 2025 /**Today, Coder, the AI software development company, introduces a major platform upgrade designed specifically for enterprise teams working with AI coding agents. \"With Coder's flexible architecture, we can seamlessly support developer environments for both humans and AI agents while keeping our engineers productive.\" This release also introduces a redesigned Coder Registry, a marketplace of community and official modules and templates for sharing and managing secure, enterprise-ready dev environments, with built-in modules that accelerate time-to-value for popular AI agents like Claude Code.\n",
      "===\n",
      "Source Floor Bleeker on the Rise of AI Agents, Robotics, and the Future Tech Stack of Hospitality - Hospitality Net:\n",
      "===\n",
      "URL: https://www.hospitalitynet.org/news/4127985.html\n",
      "===\n",
      "Most relevant content from source: Floor Bleeker on the Rise of AI Agents, Robotics, and the Future Tech Stack of Hospitality | By Floor Bleeker and Simone Puorto Floor Bleeker on the Rise of AI Agents, Robotics, and the Future Tech Stack of Hospitality At HITEC 2025 in Indianapolis, we sat down with **Floor Bleeker**, a well-known voice in hospitality technology, to explore the future of AI in the industry. ### What is your view on generative AI and agentic AI in hospitality? Floor works with a tech company using AI to assist development, reducing workload by over 60%. #### HITEC Rewind: Floor Bleeker on AI Agents, Robotics, and Replacing the Hotel Tech Stack AI in Hospitality: How Smart Tech is Changing Guest Experience\n",
      "===\n",
      "Source The Definitive Guide to AI Agents: Architectures, Frameworks, and Real-World Applications (2025) - MarkTechPost:\n",
      "===\n",
      "URL: https://www.marktechpost.com/2025/07/19/the-definitive-guide-to-ai-agents-architectures-frameworks-and-real-world-applications-2025/\n",
      "===\n",
      "Most relevant content from source: *   AI Tools & Agents *   What is an AI Agent? *   Why AI Agents Matter in 2025 *   Types of AI Agents *   AI Agent vs. *   FAQs About AI Agents ### **What is an AI Agent?** An **AI Agent** is an autonomous software system that can perceive its environment, interpret data, reason, and execute actions to achieve specific goals without explicit human intervention. Unlike traditional automation, AI agents integrate decision-making, learning, memory, and multi-step planning capabilities—making them suitable for complex real-world tasks. ### **Why AI Agents Matter in 2025** ### **Types of AI Agents** ### **AI Agent vs. ### **FAQs About AI Agents** **A:** No. True AI agents orchestrate memory, reasoning, planning, tool use, and adaptiveness beyond static prompts.\n",
      "===\n",
      "Source HITEC Rewind: Floor Bleeker on AI Agents, Robotics, and Replacing the Hotel Tech Stack - Hospitality Net:\n",
      "===\n",
      "URL: https://www.hospitalitynet.org/video/69002588.html\n",
      "===\n",
      "Most relevant content from source: HITEC Rewind: Floor Bleeker on AI Agents, Robotics, and Replacing the Hotel Tech Stack HITEC Rewind: Floor Bleeker on AI Agents, Robotics, and Replacing the Hotel Tech Stack At HITEC 2025, tech strategist Floor Bleeker offered a sharp view into the future of AI in hospitality. #### Floor Bleeker on the Rise of AI Agents, Robotics, and the Future Tech Stack of Hospitality | By Floor Bleeker HITEC Rewind: Sabre Hospitality’s Chris Boyle on Innovation, AI and the Rise of Hotel Commerce Platforms Chris explained how AI will support, not replace, hospitality staff, and how the company is preparing for a future shaped by voice-driven, personalised guest experiences. Image 11: Hospitality Net today Newsletter\n",
      "===\n",
      "Tool Name: search_tavily\n",
      "Tool Call ID: chatcmpl-tool-9967e24d9f144e1ca93dbbb3c808857e\n",
      "==================================================\n",
      "==================================================\n",
      "Message 3:\n",
      "Message type: AIMessage\n",
      "Role: assistant\n",
      "Content: The latest developments in AI agents in 2025 include the introduction of enterprise-grade platforms for self-hosted AI development environments, such as Coder's platform, which enables AI agents to become a practical and secure reality for enterprise software development teams. Additionally, there is a growing interest in the use of AI agents in hospitality, with experts like Floor Bleeker discussing the potential of AI agents and robotics to replace traditional hotel tech stacks. Furthermore, there are various types of AI agents, including those that can perceive their environment, interpret data, reason, and execute actions to achieve specific goals without explicit human intervention. Overall, AI agents are becoming increasingly important in 2025, with potential applications in various industries, including software development, hospitality, and more.\n",
      "Tool Name: None\n",
      "==================================================\n"
     ]
    }
   ],
   "source": [
    "# Display the conversation\n",
    "print(\"Agent completed! Here are the results:\")\n",
    "print(f\"Result type: {type(result)}\")\n",
    "print(f\"Result keys: {result.keys() if isinstance(result, dict) else 'Not a dict'}\")\n",
    "\n",
    "# Access messages correctly\n",
    "if isinstance(result, dict) and \"messages\" in result:\n",
    "    messages = result[\"messages\"]\n",
    "    for i, message in enumerate(messages):\n",
    "        print(\"=\" * 50)\n",
    "        print(f\"Message {i+1}:\")\n",
    "        print(f\"Message type: {type(message).__name__}\")\n",
    "        \n",
    "        # Handle different message types\n",
    "        if hasattr(message, \"role\"):\n",
    "            print(f\"Role: {message.role}\")\n",
    "        elif hasattr(message, \"type\"):\n",
    "            print(f\"Type: {message.type}\")\n",
    "        else:\n",
    "            print(\"Type: Unknown\")\n",
    "            \n",
    "        if hasattr(message, \"content\") and message.content:\n",
    "            print(f\"Content: {message.content}\")\n",
    "        if hasattr(message, \"tool_calls\") and message.tool_calls:\n",
    "            print(f\"Tool Calls: {message.tool_calls}\")\n",
    "        if hasattr(message, \"name\"):\n",
    "            print(f\"Tool Name: {message.name}\")\n",
    "        if hasattr(message, \"tool_call_id\"):\n",
    "            print(f\"Tool Call ID: {message.tool_call_id}\")\n",
    "            \n",
    "        print(\"=\" * 50)\n",
    "elif hasattr(result, \"messages\"):\n",
    "    # If it's an object with messages attribute\n",
    "    for i, message in enumerate(result.messages):\n",
    "        print(\"=\" * 50)\n",
    "        print(f\"Message {i+1}:\")\n",
    "        print(f\"Message type: {type(message).__name__}\")\n",
    "        \n",
    "        if hasattr(message, \"role\"):\n",
    "            print(f\"Role: {message.role}\")\n",
    "        elif hasattr(message, \"type\"):\n",
    "            print(f\"Type: {message.type}\")\n",
    "        else:\n",
    "            print(\"Type: Unknown\")\n",
    "            \n",
    "        if hasattr(message, \"content\") and message.content:\n",
    "            print(f\"Content: {message.content}\")\n",
    "        if hasattr(message, \"tool_calls\") and message.tool_calls:\n",
    "            print(f\"Tool Calls: {message.tool_calls}\")\n",
    "        if hasattr(message, \"name\"):\n",
    "            print(f\"Tool Name: {message.name}\")\n",
    "        if hasattr(message, \"tool_call_id\"):\n",
    "            print(f\"Tool Call ID: {message.tool_call_id}\")\n",
    "            \n",
    "        print(\"=\" * 50)\n",
    "else:\n",
    "    print(\"Unexpected result format:\")\n",
    "    print(result)"
   ]
  },
  {
   "cell_type": "markdown",
   "id": "b610608f",
   "metadata": {},
   "source": [
    "## Next Steps\n",
    "\n",
    "1. **Customize the agent**: Edit the files in `my_agent/`\n",
    "2. **Add custom tools**: Create new tools in `tools.py`\n",
    "3. **Improve prompts**: Refine the system prompts in `prompts.py`\n",
    "4. **Test and iterate**: Run this notebook and improve your agent"
   ]
  }
 ],
 "metadata": {
  "kernelspec": {
   "display_name": "Python 3 (ipykernel)",
   "language": "python",
   "name": "python3"
  },
  "language_info": {
   "codemirror_mode": {
    "name": "ipython",
    "version": 3
   },
   "file_extension": ".py",
   "mimetype": "text/x-python",
   "name": "python",
   "nbconvert_exporter": "python",
   "pygments_lexer": "ipython3",
   "version": "3.13.3"
  }
 },
 "nbformat": 4,
 "nbformat_minor": 5
}
